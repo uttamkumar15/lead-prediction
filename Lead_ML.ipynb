{
 "cells": [
  {
   "cell_type": "code",
   "execution_count": 1,
   "metadata": {},
   "outputs": [],
   "source": [
    "import pandas as pd\n",
    "import numpy as np"
   ]
  },
  {
   "cell_type": "code",
   "execution_count": 2,
   "metadata": {},
   "outputs": [],
   "source": [
    "df = pd.read_csv(\"lead_pre.csv\")"
   ]
  },
  {
   "cell_type": "code",
   "execution_count": 3,
   "metadata": {},
   "outputs": [
    {
     "data": {
      "text/plain": [
       "Unnamed: 0         int64\n",
       "status             int64\n",
       "budget             int64\n",
       "duration          object\n",
       "source            object\n",
       "source_city       object\n",
       "source_country    object\n",
       "utm_source        object\n",
       "utm_medium        object\n",
       "des_city          object\n",
       "des_country       object\n",
       "dtype: object"
      ]
     },
     "execution_count": 3,
     "metadata": {},
     "output_type": "execute_result"
    }
   ],
   "source": [
    "df.dtypes"
   ]
  },
  {
   "cell_type": "code",
   "execution_count": 4,
   "metadata": {},
   "outputs": [
    {
     "name": "stdout",
     "output_type": "stream",
     "text": [
      "<class 'pandas.core.frame.DataFrame'>\n",
      "RangeIndex: 46317 entries, 0 to 46316\n",
      "Data columns (total 11 columns):\n",
      " #   Column          Non-Null Count  Dtype \n",
      "---  ------          --------------  ----- \n",
      " 0   Unnamed: 0      46317 non-null  int64 \n",
      " 1   status          46317 non-null  int64 \n",
      " 2   budget          46317 non-null  int64 \n",
      " 3   duration        46317 non-null  object\n",
      " 4   source          40366 non-null  object\n",
      " 5   source_city     37486 non-null  object\n",
      " 6   source_country  37695 non-null  object\n",
      " 7   utm_source      46256 non-null  object\n",
      " 8   utm_medium      43133 non-null  object\n",
      " 9   des_city        43788 non-null  object\n",
      " 10  des_country     43788 non-null  object\n",
      "dtypes: int64(3), object(8)\n",
      "memory usage: 3.9+ MB\n"
     ]
    }
   ],
   "source": [
    "df.info()"
   ]
  },
  {
   "cell_type": "code",
   "execution_count": 5,
   "metadata": {},
   "outputs": [],
   "source": [
    "df.drop(['Unnamed: 0','des_country'],axis=1,inplace=True)"
   ]
  },
  {
   "cell_type": "code",
   "execution_count": 6,
   "metadata": {},
   "outputs": [
    {
     "data": {
      "text/plain": [
       "Index(['status', 'budget', 'duration', 'source', 'source_city',\n",
       "       'source_country', 'utm_source', 'utm_medium', 'des_city'],\n",
       "      dtype='object')"
      ]
     },
     "execution_count": 6,
     "metadata": {},
     "output_type": "execute_result"
    }
   ],
   "source": [
    "df.columns"
   ]
  },
  {
   "cell_type": "code",
   "execution_count": 7,
   "metadata": {},
   "outputs": [],
   "source": [
    "for i in df.columns:\n",
    "    if df[i].isnull().sum() >0:\n",
    "        df[i].fillna(df[i].mode)"
   ]
  },
  {
   "cell_type": "code",
   "execution_count": 8,
   "metadata": {},
   "outputs": [
    {
     "data": {
      "text/plain": [
       "status               0\n",
       "budget               0\n",
       "duration             0\n",
       "source            5951\n",
       "source_city       8831\n",
       "source_country    8622\n",
       "utm_source          61\n",
       "utm_medium        3184\n",
       "des_city          2529\n",
       "dtype: int64"
      ]
     },
     "execution_count": 8,
     "metadata": {},
     "output_type": "execute_result"
    }
   ],
   "source": [
    "df.isnull().sum()"
   ]
  },
  {
   "cell_type": "code",
   "execution_count": 9,
   "metadata": {},
   "outputs": [],
   "source": [
    "df.dropna(inplace=True)"
   ]
  },
  {
   "cell_type": "code",
   "execution_count": 10,
   "metadata": {},
   "outputs": [],
   "source": [
    "# Perform one-hot encoding for the categorical features\n",
    "df_encoded = pd.get_dummies(df, columns=['duration','source','budget','source_city','source_country','utm_source','utm_medium','des_city'])"
   ]
  },
  {
   "cell_type": "code",
   "execution_count": 11,
   "metadata": {},
   "outputs": [
    {
     "data": {
      "text/html": [
       "<div>\n",
       "<style scoped>\n",
       "    .dataframe tbody tr th:only-of-type {\n",
       "        vertical-align: middle;\n",
       "    }\n",
       "\n",
       "    .dataframe tbody tr th {\n",
       "        vertical-align: top;\n",
       "    }\n",
       "\n",
       "    .dataframe thead th {\n",
       "        text-align: right;\n",
       "    }\n",
       "</style>\n",
       "<table border=\"1\" class=\"dataframe\">\n",
       "  <thead>\n",
       "    <tr style=\"text-align: right;\">\n",
       "      <th></th>\n",
       "      <th>status</th>\n",
       "      <th>duration_0</th>\n",
       "      <th>duration_10</th>\n",
       "      <th>duration_42</th>\n",
       "      <th>duration_51</th>\n",
       "      <th>duration_others</th>\n",
       "      <th>source_003f4f0b240c2adf7bba9dc34e7c14157c2d121be34f43858d32755aa8ce749b</th>\n",
       "      <th>source_0060db974eb8e76c7b963b6ab1807d25abb793eba22ce2c26c18459c0178566d</th>\n",
       "      <th>source_01d21388868623be0581004ac1aa54189af976c5ac5010ad5983ec23f3092fc6</th>\n",
       "      <th>source_02fdef05b288b3d6a12e3b6eb5d36aa344df56da5efb4a7811d52925e95db24c</th>\n",
       "      <th>...</th>\n",
       "      <th>des_city_f0f7d0f1dfaf96d3015a979080a4f8a1b7683a5b890c0e3ba456e16efadb5783</th>\n",
       "      <th>des_city_f19d051291d4364989e4e957ef610448af3e05863ee1b812738dd8ba78704bbf</th>\n",
       "      <th>des_city_f3966925d3b328c7fda7ebf6bc87747f2f15040ae6c16502a76d02e57003eb10</th>\n",
       "      <th>des_city_f4a95c80f4c35feff42a9f3830c6bfca4c0ea7bd43c6487fb2dc31eef7042736</th>\n",
       "      <th>des_city_f54f81405b9f63b0172b1598fe540c605e07ebd776ae11eb1637dfce9b883f8f</th>\n",
       "      <th>des_city_f618d9049cbfb9410ad8d47541218cc7a2a9e930750f593cbf5e1f68c3f27359</th>\n",
       "      <th>des_city_f85b65964d0cd041e8113f3b493abe0247f7f6d2b80762db183c09b1eae7e4f8</th>\n",
       "      <th>des_city_f92fd06da205d4b09f2683869528060f182275110babcbf20acd1c01c875e3c0</th>\n",
       "      <th>des_city_f9bfb92c288658941063ed2dfc7feca398a9df1623a428f5790d9818dc91297f</th>\n",
       "      <th>des_city_fb5c9d2cf0b916ef699ed346ada794721b2c9f5b20bcbd9b4fc556423c538677</th>\n",
       "    </tr>\n",
       "  </thead>\n",
       "  <tbody>\n",
       "    <tr>\n",
       "      <th>2</th>\n",
       "      <td>0</td>\n",
       "      <td>0</td>\n",
       "      <td>0</td>\n",
       "      <td>1</td>\n",
       "      <td>0</td>\n",
       "      <td>0</td>\n",
       "      <td>0</td>\n",
       "      <td>0</td>\n",
       "      <td>0</td>\n",
       "      <td>0</td>\n",
       "      <td>...</td>\n",
       "      <td>0</td>\n",
       "      <td>0</td>\n",
       "      <td>0</td>\n",
       "      <td>0</td>\n",
       "      <td>0</td>\n",
       "      <td>0</td>\n",
       "      <td>0</td>\n",
       "      <td>0</td>\n",
       "      <td>0</td>\n",
       "      <td>0</td>\n",
       "    </tr>\n",
       "    <tr>\n",
       "      <th>3</th>\n",
       "      <td>0</td>\n",
       "      <td>1</td>\n",
       "      <td>0</td>\n",
       "      <td>0</td>\n",
       "      <td>0</td>\n",
       "      <td>0</td>\n",
       "      <td>0</td>\n",
       "      <td>0</td>\n",
       "      <td>0</td>\n",
       "      <td>0</td>\n",
       "      <td>...</td>\n",
       "      <td>0</td>\n",
       "      <td>0</td>\n",
       "      <td>0</td>\n",
       "      <td>0</td>\n",
       "      <td>0</td>\n",
       "      <td>0</td>\n",
       "      <td>0</td>\n",
       "      <td>0</td>\n",
       "      <td>0</td>\n",
       "      <td>0</td>\n",
       "    </tr>\n",
       "    <tr>\n",
       "      <th>5</th>\n",
       "      <td>0</td>\n",
       "      <td>0</td>\n",
       "      <td>0</td>\n",
       "      <td>0</td>\n",
       "      <td>0</td>\n",
       "      <td>1</td>\n",
       "      <td>0</td>\n",
       "      <td>0</td>\n",
       "      <td>0</td>\n",
       "      <td>0</td>\n",
       "      <td>...</td>\n",
       "      <td>0</td>\n",
       "      <td>1</td>\n",
       "      <td>0</td>\n",
       "      <td>0</td>\n",
       "      <td>0</td>\n",
       "      <td>0</td>\n",
       "      <td>0</td>\n",
       "      <td>0</td>\n",
       "      <td>0</td>\n",
       "      <td>0</td>\n",
       "    </tr>\n",
       "    <tr>\n",
       "      <th>6</th>\n",
       "      <td>0</td>\n",
       "      <td>1</td>\n",
       "      <td>0</td>\n",
       "      <td>0</td>\n",
       "      <td>0</td>\n",
       "      <td>0</td>\n",
       "      <td>0</td>\n",
       "      <td>0</td>\n",
       "      <td>0</td>\n",
       "      <td>0</td>\n",
       "      <td>...</td>\n",
       "      <td>0</td>\n",
       "      <td>0</td>\n",
       "      <td>0</td>\n",
       "      <td>0</td>\n",
       "      <td>0</td>\n",
       "      <td>0</td>\n",
       "      <td>0</td>\n",
       "      <td>0</td>\n",
       "      <td>0</td>\n",
       "      <td>0</td>\n",
       "    </tr>\n",
       "    <tr>\n",
       "      <th>7</th>\n",
       "      <td>0</td>\n",
       "      <td>0</td>\n",
       "      <td>0</td>\n",
       "      <td>0</td>\n",
       "      <td>1</td>\n",
       "      <td>0</td>\n",
       "      <td>0</td>\n",
       "      <td>0</td>\n",
       "      <td>0</td>\n",
       "      <td>0</td>\n",
       "      <td>...</td>\n",
       "      <td>0</td>\n",
       "      <td>0</td>\n",
       "      <td>0</td>\n",
       "      <td>0</td>\n",
       "      <td>0</td>\n",
       "      <td>0</td>\n",
       "      <td>0</td>\n",
       "      <td>0</td>\n",
       "      <td>0</td>\n",
       "      <td>0</td>\n",
       "    </tr>\n",
       "    <tr>\n",
       "      <th>...</th>\n",
       "      <td>...</td>\n",
       "      <td>...</td>\n",
       "      <td>...</td>\n",
       "      <td>...</td>\n",
       "      <td>...</td>\n",
       "      <td>...</td>\n",
       "      <td>...</td>\n",
       "      <td>...</td>\n",
       "      <td>...</td>\n",
       "      <td>...</td>\n",
       "      <td>...</td>\n",
       "      <td>...</td>\n",
       "      <td>...</td>\n",
       "      <td>...</td>\n",
       "      <td>...</td>\n",
       "      <td>...</td>\n",
       "      <td>...</td>\n",
       "      <td>...</td>\n",
       "      <td>...</td>\n",
       "      <td>...</td>\n",
       "      <td>...</td>\n",
       "    </tr>\n",
       "    <tr>\n",
       "      <th>46308</th>\n",
       "      <td>0</td>\n",
       "      <td>0</td>\n",
       "      <td>0</td>\n",
       "      <td>0</td>\n",
       "      <td>0</td>\n",
       "      <td>1</td>\n",
       "      <td>0</td>\n",
       "      <td>0</td>\n",
       "      <td>0</td>\n",
       "      <td>0</td>\n",
       "      <td>...</td>\n",
       "      <td>0</td>\n",
       "      <td>0</td>\n",
       "      <td>0</td>\n",
       "      <td>0</td>\n",
       "      <td>0</td>\n",
       "      <td>0</td>\n",
       "      <td>0</td>\n",
       "      <td>0</td>\n",
       "      <td>0</td>\n",
       "      <td>0</td>\n",
       "    </tr>\n",
       "    <tr>\n",
       "      <th>46311</th>\n",
       "      <td>0</td>\n",
       "      <td>0</td>\n",
       "      <td>0</td>\n",
       "      <td>0</td>\n",
       "      <td>0</td>\n",
       "      <td>1</td>\n",
       "      <td>0</td>\n",
       "      <td>0</td>\n",
       "      <td>0</td>\n",
       "      <td>0</td>\n",
       "      <td>...</td>\n",
       "      <td>0</td>\n",
       "      <td>0</td>\n",
       "      <td>0</td>\n",
       "      <td>0</td>\n",
       "      <td>0</td>\n",
       "      <td>0</td>\n",
       "      <td>0</td>\n",
       "      <td>0</td>\n",
       "      <td>0</td>\n",
       "      <td>0</td>\n",
       "    </tr>\n",
       "    <tr>\n",
       "      <th>46314</th>\n",
       "      <td>0</td>\n",
       "      <td>0</td>\n",
       "      <td>0</td>\n",
       "      <td>1</td>\n",
       "      <td>0</td>\n",
       "      <td>0</td>\n",
       "      <td>0</td>\n",
       "      <td>0</td>\n",
       "      <td>0</td>\n",
       "      <td>0</td>\n",
       "      <td>...</td>\n",
       "      <td>0</td>\n",
       "      <td>0</td>\n",
       "      <td>0</td>\n",
       "      <td>0</td>\n",
       "      <td>0</td>\n",
       "      <td>0</td>\n",
       "      <td>0</td>\n",
       "      <td>0</td>\n",
       "      <td>0</td>\n",
       "      <td>0</td>\n",
       "    </tr>\n",
       "    <tr>\n",
       "      <th>46315</th>\n",
       "      <td>0</td>\n",
       "      <td>0</td>\n",
       "      <td>0</td>\n",
       "      <td>0</td>\n",
       "      <td>0</td>\n",
       "      <td>1</td>\n",
       "      <td>0</td>\n",
       "      <td>0</td>\n",
       "      <td>0</td>\n",
       "      <td>0</td>\n",
       "      <td>...</td>\n",
       "      <td>0</td>\n",
       "      <td>0</td>\n",
       "      <td>0</td>\n",
       "      <td>0</td>\n",
       "      <td>0</td>\n",
       "      <td>0</td>\n",
       "      <td>0</td>\n",
       "      <td>0</td>\n",
       "      <td>0</td>\n",
       "      <td>0</td>\n",
       "    </tr>\n",
       "    <tr>\n",
       "      <th>46316</th>\n",
       "      <td>0</td>\n",
       "      <td>0</td>\n",
       "      <td>0</td>\n",
       "      <td>1</td>\n",
       "      <td>0</td>\n",
       "      <td>0</td>\n",
       "      <td>0</td>\n",
       "      <td>0</td>\n",
       "      <td>0</td>\n",
       "      <td>0</td>\n",
       "      <td>...</td>\n",
       "      <td>0</td>\n",
       "      <td>0</td>\n",
       "      <td>0</td>\n",
       "      <td>0</td>\n",
       "      <td>0</td>\n",
       "      <td>0</td>\n",
       "      <td>0</td>\n",
       "      <td>0</td>\n",
       "      <td>0</td>\n",
       "      <td>0</td>\n",
       "    </tr>\n",
       "  </tbody>\n",
       "</table>\n",
       "<p>30876 rows × 4527 columns</p>\n",
       "</div>"
      ],
      "text/plain": [
       "       status  duration_0  duration_10  duration_42  duration_51  \\\n",
       "2           0           0            0            1            0   \n",
       "3           0           1            0            0            0   \n",
       "5           0           0            0            0            0   \n",
       "6           0           1            0            0            0   \n",
       "7           0           0            0            0            1   \n",
       "...       ...         ...          ...          ...          ...   \n",
       "46308       0           0            0            0            0   \n",
       "46311       0           0            0            0            0   \n",
       "46314       0           0            0            1            0   \n",
       "46315       0           0            0            0            0   \n",
       "46316       0           0            0            1            0   \n",
       "\n",
       "       duration_others  \\\n",
       "2                    0   \n",
       "3                    0   \n",
       "5                    1   \n",
       "6                    0   \n",
       "7                    0   \n",
       "...                ...   \n",
       "46308                1   \n",
       "46311                1   \n",
       "46314                0   \n",
       "46315                1   \n",
       "46316                0   \n",
       "\n",
       "       source_003f4f0b240c2adf7bba9dc34e7c14157c2d121be34f43858d32755aa8ce749b  \\\n",
       "2                                                      0                         \n",
       "3                                                      0                         \n",
       "5                                                      0                         \n",
       "6                                                      0                         \n",
       "7                                                      0                         \n",
       "...                                                  ...                         \n",
       "46308                                                  0                         \n",
       "46311                                                  0                         \n",
       "46314                                                  0                         \n",
       "46315                                                  0                         \n",
       "46316                                                  0                         \n",
       "\n",
       "       source_0060db974eb8e76c7b963b6ab1807d25abb793eba22ce2c26c18459c0178566d  \\\n",
       "2                                                      0                         \n",
       "3                                                      0                         \n",
       "5                                                      0                         \n",
       "6                                                      0                         \n",
       "7                                                      0                         \n",
       "...                                                  ...                         \n",
       "46308                                                  0                         \n",
       "46311                                                  0                         \n",
       "46314                                                  0                         \n",
       "46315                                                  0                         \n",
       "46316                                                  0                         \n",
       "\n",
       "       source_01d21388868623be0581004ac1aa54189af976c5ac5010ad5983ec23f3092fc6  \\\n",
       "2                                                      0                         \n",
       "3                                                      0                         \n",
       "5                                                      0                         \n",
       "6                                                      0                         \n",
       "7                                                      0                         \n",
       "...                                                  ...                         \n",
       "46308                                                  0                         \n",
       "46311                                                  0                         \n",
       "46314                                                  0                         \n",
       "46315                                                  0                         \n",
       "46316                                                  0                         \n",
       "\n",
       "       source_02fdef05b288b3d6a12e3b6eb5d36aa344df56da5efb4a7811d52925e95db24c  \\\n",
       "2                                                      0                         \n",
       "3                                                      0                         \n",
       "5                                                      0                         \n",
       "6                                                      0                         \n",
       "7                                                      0                         \n",
       "...                                                  ...                         \n",
       "46308                                                  0                         \n",
       "46311                                                  0                         \n",
       "46314                                                  0                         \n",
       "46315                                                  0                         \n",
       "46316                                                  0                         \n",
       "\n",
       "       ...  \\\n",
       "2      ...   \n",
       "3      ...   \n",
       "5      ...   \n",
       "6      ...   \n",
       "7      ...   \n",
       "...    ...   \n",
       "46308  ...   \n",
       "46311  ...   \n",
       "46314  ...   \n",
       "46315  ...   \n",
       "46316  ...   \n",
       "\n",
       "       des_city_f0f7d0f1dfaf96d3015a979080a4f8a1b7683a5b890c0e3ba456e16efadb5783  \\\n",
       "2                                                      0                           \n",
       "3                                                      0                           \n",
       "5                                                      0                           \n",
       "6                                                      0                           \n",
       "7                                                      0                           \n",
       "...                                                  ...                           \n",
       "46308                                                  0                           \n",
       "46311                                                  0                           \n",
       "46314                                                  0                           \n",
       "46315                                                  0                           \n",
       "46316                                                  0                           \n",
       "\n",
       "       des_city_f19d051291d4364989e4e957ef610448af3e05863ee1b812738dd8ba78704bbf  \\\n",
       "2                                                      0                           \n",
       "3                                                      0                           \n",
       "5                                                      1                           \n",
       "6                                                      0                           \n",
       "7                                                      0                           \n",
       "...                                                  ...                           \n",
       "46308                                                  0                           \n",
       "46311                                                  0                           \n",
       "46314                                                  0                           \n",
       "46315                                                  0                           \n",
       "46316                                                  0                           \n",
       "\n",
       "       des_city_f3966925d3b328c7fda7ebf6bc87747f2f15040ae6c16502a76d02e57003eb10  \\\n",
       "2                                                      0                           \n",
       "3                                                      0                           \n",
       "5                                                      0                           \n",
       "6                                                      0                           \n",
       "7                                                      0                           \n",
       "...                                                  ...                           \n",
       "46308                                                  0                           \n",
       "46311                                                  0                           \n",
       "46314                                                  0                           \n",
       "46315                                                  0                           \n",
       "46316                                                  0                           \n",
       "\n",
       "       des_city_f4a95c80f4c35feff42a9f3830c6bfca4c0ea7bd43c6487fb2dc31eef7042736  \\\n",
       "2                                                      0                           \n",
       "3                                                      0                           \n",
       "5                                                      0                           \n",
       "6                                                      0                           \n",
       "7                                                      0                           \n",
       "...                                                  ...                           \n",
       "46308                                                  0                           \n",
       "46311                                                  0                           \n",
       "46314                                                  0                           \n",
       "46315                                                  0                           \n",
       "46316                                                  0                           \n",
       "\n",
       "       des_city_f54f81405b9f63b0172b1598fe540c605e07ebd776ae11eb1637dfce9b883f8f  \\\n",
       "2                                                      0                           \n",
       "3                                                      0                           \n",
       "5                                                      0                           \n",
       "6                                                      0                           \n",
       "7                                                      0                           \n",
       "...                                                  ...                           \n",
       "46308                                                  0                           \n",
       "46311                                                  0                           \n",
       "46314                                                  0                           \n",
       "46315                                                  0                           \n",
       "46316                                                  0                           \n",
       "\n",
       "       des_city_f618d9049cbfb9410ad8d47541218cc7a2a9e930750f593cbf5e1f68c3f27359  \\\n",
       "2                                                      0                           \n",
       "3                                                      0                           \n",
       "5                                                      0                           \n",
       "6                                                      0                           \n",
       "7                                                      0                           \n",
       "...                                                  ...                           \n",
       "46308                                                  0                           \n",
       "46311                                                  0                           \n",
       "46314                                                  0                           \n",
       "46315                                                  0                           \n",
       "46316                                                  0                           \n",
       "\n",
       "       des_city_f85b65964d0cd041e8113f3b493abe0247f7f6d2b80762db183c09b1eae7e4f8  \\\n",
       "2                                                      0                           \n",
       "3                                                      0                           \n",
       "5                                                      0                           \n",
       "6                                                      0                           \n",
       "7                                                      0                           \n",
       "...                                                  ...                           \n",
       "46308                                                  0                           \n",
       "46311                                                  0                           \n",
       "46314                                                  0                           \n",
       "46315                                                  0                           \n",
       "46316                                                  0                           \n",
       "\n",
       "       des_city_f92fd06da205d4b09f2683869528060f182275110babcbf20acd1c01c875e3c0  \\\n",
       "2                                                      0                           \n",
       "3                                                      0                           \n",
       "5                                                      0                           \n",
       "6                                                      0                           \n",
       "7                                                      0                           \n",
       "...                                                  ...                           \n",
       "46308                                                  0                           \n",
       "46311                                                  0                           \n",
       "46314                                                  0                           \n",
       "46315                                                  0                           \n",
       "46316                                                  0                           \n",
       "\n",
       "       des_city_f9bfb92c288658941063ed2dfc7feca398a9df1623a428f5790d9818dc91297f  \\\n",
       "2                                                      0                           \n",
       "3                                                      0                           \n",
       "5                                                      0                           \n",
       "6                                                      0                           \n",
       "7                                                      0                           \n",
       "...                                                  ...                           \n",
       "46308                                                  0                           \n",
       "46311                                                  0                           \n",
       "46314                                                  0                           \n",
       "46315                                                  0                           \n",
       "46316                                                  0                           \n",
       "\n",
       "       des_city_fb5c9d2cf0b916ef699ed346ada794721b2c9f5b20bcbd9b4fc556423c538677  \n",
       "2                                                      0                          \n",
       "3                                                      0                          \n",
       "5                                                      0                          \n",
       "6                                                      0                          \n",
       "7                                                      0                          \n",
       "...                                                  ...                          \n",
       "46308                                                  0                          \n",
       "46311                                                  0                          \n",
       "46314                                                  0                          \n",
       "46315                                                  0                          \n",
       "46316                                                  0                          \n",
       "\n",
       "[30876 rows x 4527 columns]"
      ]
     },
     "execution_count": 11,
     "metadata": {},
     "output_type": "execute_result"
    }
   ],
   "source": [
    "df_encoded"
   ]
  },
  {
   "cell_type": "code",
   "execution_count": 12,
   "metadata": {},
   "outputs": [],
   "source": [
    "from sklearn.linear_model import LogisticRegression\n",
    "lg = LogisticRegression()"
   ]
  },
  {
   "cell_type": "code",
   "execution_count": 13,
   "metadata": {},
   "outputs": [],
   "source": [
    "from sklearn.model_selection import train_test_split\n",
    "X_train,X_test,y_train,y_test = train_test_split(df_encoded.drop(['status'],axis=1),df_encoded['status'],test_size=0.2,random_state=20)"
   ]
  },
  {
   "cell_type": "code",
   "execution_count": 14,
   "metadata": {},
   "outputs": [
    {
     "name": "stderr",
     "output_type": "stream",
     "text": [
      "c:\\Users\\Uttam Kumar\\AppData\\Local\\Programs\\Python\\Python310\\lib\\site-packages\\sklearn\\linear_model\\_logistic.py:444: ConvergenceWarning: lbfgs failed to converge (status=1):\n",
      "STOP: TOTAL NO. of ITERATIONS REACHED LIMIT.\n",
      "\n",
      "Increase the number of iterations (max_iter) or scale the data as shown in:\n",
      "    https://scikit-learn.org/stable/modules/preprocessing.html\n",
      "Please also refer to the documentation for alternative solver options:\n",
      "    https://scikit-learn.org/stable/modules/linear_model.html#logistic-regression\n",
      "  n_iter_i = _check_optimize_result(\n"
     ]
    },
    {
     "data": {
      "text/html": [
       "<style>#sk-container-id-1 {color: black;background-color: white;}#sk-container-id-1 pre{padding: 0;}#sk-container-id-1 div.sk-toggleable {background-color: white;}#sk-container-id-1 label.sk-toggleable__label {cursor: pointer;display: block;width: 100%;margin-bottom: 0;padding: 0.3em;box-sizing: border-box;text-align: center;}#sk-container-id-1 label.sk-toggleable__label-arrow:before {content: \"▸\";float: left;margin-right: 0.25em;color: #696969;}#sk-container-id-1 label.sk-toggleable__label-arrow:hover:before {color: black;}#sk-container-id-1 div.sk-estimator:hover label.sk-toggleable__label-arrow:before {color: black;}#sk-container-id-1 div.sk-toggleable__content {max-height: 0;max-width: 0;overflow: hidden;text-align: left;background-color: #f0f8ff;}#sk-container-id-1 div.sk-toggleable__content pre {margin: 0.2em;color: black;border-radius: 0.25em;background-color: #f0f8ff;}#sk-container-id-1 input.sk-toggleable__control:checked~div.sk-toggleable__content {max-height: 200px;max-width: 100%;overflow: auto;}#sk-container-id-1 input.sk-toggleable__control:checked~label.sk-toggleable__label-arrow:before {content: \"▾\";}#sk-container-id-1 div.sk-estimator input.sk-toggleable__control:checked~label.sk-toggleable__label {background-color: #d4ebff;}#sk-container-id-1 div.sk-label input.sk-toggleable__control:checked~label.sk-toggleable__label {background-color: #d4ebff;}#sk-container-id-1 input.sk-hidden--visually {border: 0;clip: rect(1px 1px 1px 1px);clip: rect(1px, 1px, 1px, 1px);height: 1px;margin: -1px;overflow: hidden;padding: 0;position: absolute;width: 1px;}#sk-container-id-1 div.sk-estimator {font-family: monospace;background-color: #f0f8ff;border: 1px dotted black;border-radius: 0.25em;box-sizing: border-box;margin-bottom: 0.5em;}#sk-container-id-1 div.sk-estimator:hover {background-color: #d4ebff;}#sk-container-id-1 div.sk-parallel-item::after {content: \"\";width: 100%;border-bottom: 1px solid gray;flex-grow: 1;}#sk-container-id-1 div.sk-label:hover label.sk-toggleable__label {background-color: #d4ebff;}#sk-container-id-1 div.sk-serial::before {content: \"\";position: absolute;border-left: 1px solid gray;box-sizing: border-box;top: 0;bottom: 0;left: 50%;z-index: 0;}#sk-container-id-1 div.sk-serial {display: flex;flex-direction: column;align-items: center;background-color: white;padding-right: 0.2em;padding-left: 0.2em;position: relative;}#sk-container-id-1 div.sk-item {position: relative;z-index: 1;}#sk-container-id-1 div.sk-parallel {display: flex;align-items: stretch;justify-content: center;background-color: white;position: relative;}#sk-container-id-1 div.sk-item::before, #sk-container-id-1 div.sk-parallel-item::before {content: \"\";position: absolute;border-left: 1px solid gray;box-sizing: border-box;top: 0;bottom: 0;left: 50%;z-index: -1;}#sk-container-id-1 div.sk-parallel-item {display: flex;flex-direction: column;z-index: 1;position: relative;background-color: white;}#sk-container-id-1 div.sk-parallel-item:first-child::after {align-self: flex-end;width: 50%;}#sk-container-id-1 div.sk-parallel-item:last-child::after {align-self: flex-start;width: 50%;}#sk-container-id-1 div.sk-parallel-item:only-child::after {width: 0;}#sk-container-id-1 div.sk-dashed-wrapped {border: 1px dashed gray;margin: 0 0.4em 0.5em 0.4em;box-sizing: border-box;padding-bottom: 0.4em;background-color: white;}#sk-container-id-1 div.sk-label label {font-family: monospace;font-weight: bold;display: inline-block;line-height: 1.2em;}#sk-container-id-1 div.sk-label-container {text-align: center;}#sk-container-id-1 div.sk-container {/* jupyter's `normalize.less` sets `[hidden] { display: none; }` but bootstrap.min.css set `[hidden] { display: none !important; }` so we also need the `!important` here to be able to override the default hidden behavior on the sphinx rendered scikit-learn.org. See: https://github.com/scikit-learn/scikit-learn/issues/21755 */display: inline-block !important;position: relative;}#sk-container-id-1 div.sk-text-repr-fallback {display: none;}</style><div id=\"sk-container-id-1\" class=\"sk-top-container\"><div class=\"sk-text-repr-fallback\"><pre>LogisticRegression()</pre><b>In a Jupyter environment, please rerun this cell to show the HTML representation or trust the notebook. <br />On GitHub, the HTML representation is unable to render, please try loading this page with nbviewer.org.</b></div><div class=\"sk-container\" hidden><div class=\"sk-item\"><div class=\"sk-estimator sk-toggleable\"><input class=\"sk-toggleable__control sk-hidden--visually\" id=\"sk-estimator-id-1\" type=\"checkbox\" checked><label for=\"sk-estimator-id-1\" class=\"sk-toggleable__label sk-toggleable__label-arrow\">LogisticRegression</label><div class=\"sk-toggleable__content\"><pre>LogisticRegression()</pre></div></div></div></div></div>"
      ],
      "text/plain": [
       "LogisticRegression()"
      ]
     },
     "execution_count": 14,
     "metadata": {},
     "output_type": "execute_result"
    }
   ],
   "source": [
    "lg.fit(X_train,y_train)"
   ]
  },
  {
   "cell_type": "code",
   "execution_count": 15,
   "metadata": {},
   "outputs": [],
   "source": [
    "from sklearn.metrics import classification_report,f1_score,accuracy_score"
   ]
  },
  {
   "cell_type": "code",
   "execution_count": 16,
   "metadata": {},
   "outputs": [],
   "source": [
    "y_pred = lg.predict(X_test)"
   ]
  },
  {
   "cell_type": "code",
   "execution_count": 17,
   "metadata": {},
   "outputs": [
    {
     "name": "stdout",
     "output_type": "stream",
     "text": [
      "              precision    recall  f1-score   support\n",
      "\n",
      "           0       0.93      1.00      0.96      5733\n",
      "           1       0.32      0.01      0.03       443\n",
      "\n",
      "    accuracy                           0.93      6176\n",
      "   macro avg       0.62      0.51      0.49      6176\n",
      "weighted avg       0.89      0.93      0.90      6176\n",
      "\n"
     ]
    }
   ],
   "source": [
    "print(classification_report(y_test,y_pred))"
   ]
  },
  {
   "cell_type": "code",
   "execution_count": 18,
   "metadata": {},
   "outputs": [
    {
     "data": {
      "text/plain": [
       "0.025974025974025972"
      ]
     },
     "execution_count": 18,
     "metadata": {},
     "output_type": "execute_result"
    }
   ],
   "source": [
    "f1_score(y_test,y_pred)"
   ]
  },
  {
   "cell_type": "code",
   "execution_count": 19,
   "metadata": {},
   "outputs": [
    {
     "data": {
      "text/plain": [
       "0.9271373056994818"
      ]
     },
     "execution_count": 19,
     "metadata": {},
     "output_type": "execute_result"
    }
   ],
   "source": [
    "accuracy_score(y_test,y_pred)"
   ]
  },
  {
   "cell_type": "code",
   "execution_count": 20,
   "metadata": {},
   "outputs": [
    {
     "data": {
      "text/plain": [
       "array([[5720,   13],\n",
       "       [ 437,    6]], dtype=int64)"
      ]
     },
     "execution_count": 20,
     "metadata": {},
     "output_type": "execute_result"
    }
   ],
   "source": [
    "from sklearn.metrics import  confusion_matrix\n",
    "confusion_matrix(y_test,y_pred)"
   ]
  },
  {
   "cell_type": "code",
   "execution_count": 21,
   "metadata": {},
   "outputs": [],
   "source": [
    "from sklearn.ensemble import RandomForestClassifier"
   ]
  },
  {
   "cell_type": "code",
   "execution_count": 22,
   "metadata": {},
   "outputs": [],
   "source": [
    "# Create a Random Forest classifier\n",
    "rf_classifier = RandomForestClassifier(n_estimators=100, random_state=42)"
   ]
  },
  {
   "cell_type": "code",
   "execution_count": 23,
   "metadata": {},
   "outputs": [],
   "source": [
    "# Train the classifier on the training data\n",
    "rf_classifier.fit(X_train, y_train)\n",
    "\n",
    "# Predict labels for the test set\n",
    "y_pred = rf_classifier.predict(X_test)"
   ]
  },
  {
   "cell_type": "code",
   "execution_count": 24,
   "metadata": {},
   "outputs": [
    {
     "name": "stdout",
     "output_type": "stream",
     "text": [
      "Accuracy: 0.9193652849740933\n"
     ]
    }
   ],
   "source": [
    "# Calculate the accuracy of the classifier\n",
    "accuracy = accuracy_score(y_test, y_pred)\n",
    "print(\"Accuracy:\", accuracy)"
   ]
  },
  {
   "cell_type": "code",
   "execution_count": 25,
   "metadata": {},
   "outputs": [
    {
     "data": {
      "text/plain": [
       "0.04961832061068702"
      ]
     },
     "execution_count": 25,
     "metadata": {},
     "output_type": "execute_result"
    }
   ],
   "source": [
    "f1_score(y_test,y_pred)"
   ]
  },
  {
   "cell_type": "code",
   "execution_count": 26,
   "metadata": {},
   "outputs": [
    {
     "data": {
      "text/plain": [
       "array([[5665,   68],\n",
       "       [ 430,   13]], dtype=int64)"
      ]
     },
     "execution_count": 26,
     "metadata": {},
     "output_type": "execute_result"
    }
   ],
   "source": [
    "from sklearn.metrics import  confusion_matrix\n",
    "confusion_matrix(y_test,y_pred)"
   ]
  },
  {
   "cell_type": "code",
   "execution_count": 27,
   "metadata": {},
   "outputs": [],
   "source": [
    "import lightgbm as lgb"
   ]
  },
  {
   "cell_type": "code",
   "execution_count": 28,
   "metadata": {},
   "outputs": [],
   "source": [
    "train_data = lgb.Dataset(X_train, label=y_train)"
   ]
  },
  {
   "cell_type": "code",
   "execution_count": 29,
   "metadata": {},
   "outputs": [
    {
     "name": "stdout",
     "output_type": "stream",
     "text": [
      "[LightGBM] [Warning] Auto-choosing row-wise multi-threading, the overhead of testing was 0.001091 seconds.\n",
      "You can set `force_row_wise=true` to remove the overhead.\n",
      "And if memory is not enough, you can set `force_col_wise=true`.\n",
      "Accuracy: 0.9284326424870466\n"
     ]
    }
   ],
   "source": [
    "# Set the hyperparameters for LightGBM\n",
    "params = {\n",
    "    'objective': 'binary',\n",
    "    'metric': 'binary_logloss',\n",
    "    'boosting_type': 'gbdt',\n",
    "    'num_leaves': 31,\n",
    "    'learning_rate': 0.05,\n",
    "    'feature_fraction': 0.9,\n",
    "    'bagging_fraction': 0.8,\n",
    "    'bagging_freq': 5,\n",
    "    'verbose': 0\n",
    "}\n",
    "\n",
    "# Train the LightGBM model\n",
    "model = lgb.train(params, train_data, num_boost_round=100)\n",
    "\n",
    "# Make predictions on the test set\n",
    "y_pred = model.predict(X_test)\n",
    "y_pred_binary = [1 if pred >= 0.5 else 0 for pred in y_pred]\n",
    "\n",
    "# Calculate the accuracy of the model\n",
    "accuracy = accuracy_score(y_test, y_pred_binary)\n",
    "print(\"Accuracy:\", accuracy)"
   ]
  },
  {
   "cell_type": "code",
   "execution_count": 30,
   "metadata": {},
   "outputs": [
    {
     "name": "stdout",
     "output_type": "stream",
     "text": [
      "F1 Score: 0.034934497816593885\n"
     ]
    }
   ],
   "source": [
    "# Calculate the F1 score of the model\n",
    "f1score = f1_score(y_test, y_pred_binary)\n",
    "print(\"F1 Score:\", f1score)"
   ]
  },
  {
   "cell_type": "code",
   "execution_count": null,
   "metadata": {},
   "outputs": [],
   "source": []
  }
 ],
 "metadata": {
  "kernelspec": {
   "display_name": "Python 3",
   "language": "python",
   "name": "python3"
  },
  "language_info": {
   "codemirror_mode": {
    "name": "ipython",
    "version": 3
   },
   "file_extension": ".py",
   "mimetype": "text/x-python",
   "name": "python",
   "nbconvert_exporter": "python",
   "pygments_lexer": "ipython3",
   "version": "3.10.4"
  },
  "orig_nbformat": 4
 },
 "nbformat": 4,
 "nbformat_minor": 2
}
